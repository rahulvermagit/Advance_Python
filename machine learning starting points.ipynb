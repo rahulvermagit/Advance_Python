{
 "cells": [
  {
   "cell_type": "code",
   "execution_count": 1,
   "id": "c67f71fd",
   "metadata": {},
   "outputs": [],
   "source": [
    "# Population  ===> All the dataset  Ex. Country \n",
    "\n",
    "# Sample  ===> Sub data of a dataset  Ex. City \n",
    "\n",
    "# Normal Distributrion ===> from  central tendancy , we have equal data from left and right side . \n",
    "\n",
    "# Central Tendancy ===>  mean , median  , mode \n",
    "\n",
    "# mean = sum of total elements / frequency(count) of elements \n",
    "a = 1,2,3,4,5\n",
    "# mean =  (1+2+3+4+5)/5 = 15/5 = 3 \n",
    "\n",
    "# median = sort ===> even = n/2 , odd = n+1/2 \n",
    "a = 1,4,2,3,5\n",
    "# median = 1,2,3,4,5\n",
    "# odd =  5+1/2 = 6/2 = 3 rd number ===> median = 3 \n",
    "\n",
    "# mode ==>  most frequent values . \n",
    "a = 1,2,2,3,2,5\n",
    "# mode = 2 \n",
    "\n",
    "# standard deviation ===> central tendancy ==> gap of next value .  \n",
    "\n",
    "# Normal distributed ===> mean = 0 , std = 1 "
   ]
  },
  {
   "cell_type": "code",
   "execution_count": 2,
   "id": "4d56e262",
   "metadata": {},
   "outputs": [],
   "source": [
    "# Machine Learning Workflow  \n",
    "\n",
    "# Data(Gather) ===> Data Preprocessing(Normal Distribution) ===>\n",
    "# ML Algorithms ===> Prediction ==> Performance Evaluation . "
   ]
  },
  {
   "cell_type": "markdown",
   "id": "2cca0871",
   "metadata": {},
   "source": [
    "# Data Preprocessing ===>: "
   ]
  },
  {
   "cell_type": "markdown",
   "id": "03c10cb9",
   "metadata": {},
   "source": [
    "# (1) . Standardization  ===> mean = 0 , standard deviation = 1"
   ]
  },
  {
   "cell_type": "code",
   "execution_count": 3,
   "id": "2e37a80f",
   "metadata": {},
   "outputs": [],
   "source": [
    "# data ===> Independent data(X) , Dependent data(y) \n",
    "\n",
    "# (X) ===> X_train , X_test  \n",
    "\n",
    "# (y) ===> y_train,  y_test \n"
   ]
  },
  {
   "cell_type": "code",
   "execution_count": 4,
   "id": "77fc45a4",
   "metadata": {},
   "outputs": [],
   "source": [
    "# machine(training data) ===> Prediction(Testing data) "
   ]
  },
  {
   "cell_type": "code",
   "execution_count": 6,
   "id": "fea77efb",
   "metadata": {},
   "outputs": [],
   "source": [
    "import numpy as np \n",
    "import pandas as pd "
   ]
  },
  {
   "cell_type": "code",
   "execution_count": 7,
   "id": "4bd64501",
   "metadata": {},
   "outputs": [],
   "source": [
    "df = pd.read_csv(\"C:\\\\Users\\\\saurabh\\\\Desktop\\\\Newdat\\\\placement.csv\")"
   ]
  },
  {
   "cell_type": "code",
   "execution_count": 8,
   "id": "f5cea70e",
   "metadata": {},
   "outputs": [
    {
     "data": {
      "text/html": [
       "<div>\n",
       "<style scoped>\n",
       "    .dataframe tbody tr th:only-of-type {\n",
       "        vertical-align: middle;\n",
       "    }\n",
       "\n",
       "    .dataframe tbody tr th {\n",
       "        vertical-align: top;\n",
       "    }\n",
       "\n",
       "    .dataframe thead th {\n",
       "        text-align: right;\n",
       "    }\n",
       "</style>\n",
       "<table border=\"1\" class=\"dataframe\">\n",
       "  <thead>\n",
       "    <tr style=\"text-align: right;\">\n",
       "      <th></th>\n",
       "      <th>cgpa</th>\n",
       "      <th>resume_score</th>\n",
       "      <th>placed</th>\n",
       "    </tr>\n",
       "  </thead>\n",
       "  <tbody>\n",
       "    <tr>\n",
       "      <th>0</th>\n",
       "      <td>8.14</td>\n",
       "      <td>6.52</td>\n",
       "      <td>1</td>\n",
       "    </tr>\n",
       "    <tr>\n",
       "      <th>1</th>\n",
       "      <td>6.17</td>\n",
       "      <td>5.17</td>\n",
       "      <td>0</td>\n",
       "    </tr>\n",
       "  </tbody>\n",
       "</table>\n",
       "</div>"
      ],
      "text/plain": [
       "   cgpa  resume_score  placed\n",
       "0  8.14          6.52       1\n",
       "1  6.17          5.17       0"
      ]
     },
     "execution_count": 8,
     "metadata": {},
     "output_type": "execute_result"
    }
   ],
   "source": [
    "df.head(2) "
   ]
  },
  {
   "cell_type": "code",
   "execution_count": 10,
   "id": "e0aefad7",
   "metadata": {},
   "outputs": [
    {
     "data": {
      "text/plain": [
       "pandas.core.frame.DataFrame"
      ]
     },
     "execution_count": 10,
     "metadata": {},
     "output_type": "execute_result"
    }
   ],
   "source": [
    "x = df.drop(columns = ['placed'] , axis = 1)  ### Independent data\n",
    "type(x) "
   ]
  },
  {
   "cell_type": "code",
   "execution_count": 11,
   "id": "f1d530f4",
   "metadata": {},
   "outputs": [
    {
     "data": {
      "text/html": [
       "<div>\n",
       "<style scoped>\n",
       "    .dataframe tbody tr th:only-of-type {\n",
       "        vertical-align: middle;\n",
       "    }\n",
       "\n",
       "    .dataframe tbody tr th {\n",
       "        vertical-align: top;\n",
       "    }\n",
       "\n",
       "    .dataframe thead th {\n",
       "        text-align: right;\n",
       "    }\n",
       "</style>\n",
       "<table border=\"1\" class=\"dataframe\">\n",
       "  <thead>\n",
       "    <tr style=\"text-align: right;\">\n",
       "      <th></th>\n",
       "      <th>cgpa</th>\n",
       "      <th>resume_score</th>\n",
       "    </tr>\n",
       "  </thead>\n",
       "  <tbody>\n",
       "    <tr>\n",
       "      <th>0</th>\n",
       "      <td>8.14</td>\n",
       "      <td>6.52</td>\n",
       "    </tr>\n",
       "    <tr>\n",
       "      <th>1</th>\n",
       "      <td>6.17</td>\n",
       "      <td>5.17</td>\n",
       "    </tr>\n",
       "  </tbody>\n",
       "</table>\n",
       "</div>"
      ],
      "text/plain": [
       "   cgpa  resume_score\n",
       "0  8.14          6.52\n",
       "1  6.17          5.17"
      ]
     },
     "execution_count": 11,
     "metadata": {},
     "output_type": "execute_result"
    }
   ],
   "source": [
    "x.head(2) "
   ]
  },
  {
   "cell_type": "code",
   "execution_count": 12,
   "id": "a3edbba1",
   "metadata": {},
   "outputs": [],
   "source": [
    "y = df['placed']  ## Dependent or target data "
   ]
  },
  {
   "cell_type": "code",
   "execution_count": 15,
   "id": "45e171d0",
   "metadata": {},
   "outputs": [
    {
     "name": "stdout",
     "output_type": "stream",
     "text": [
      "Total data shape =  (100, 3)\n",
      "Independent  data shape =  (100, 2)\n",
      "Dependent  data shape =  (100,)\n"
     ]
    }
   ],
   "source": [
    "print(\"Total data shape = \" , df.shape) \n",
    "print(\"Independent  data shape = \" , x.shape) \n",
    "print(\"Dependent  data shape = \" , y.shape) "
   ]
  },
  {
   "cell_type": "code",
   "execution_count": null,
   "id": "cfba160b",
   "metadata": {},
   "outputs": [],
   "source": [
    "# !pip install sciket-learn "
   ]
  },
  {
   "cell_type": "code",
   "execution_count": 16,
   "id": "b85b4387",
   "metadata": {},
   "outputs": [
    {
     "name": "stderr",
     "output_type": "stream",
     "text": [
      "C:\\Users\\saurabh\\anaconda3\\lib\\site-packages\\scipy\\__init__.py:146: UserWarning: A NumPy version >=1.16.5 and <1.23.0 is required for this version of SciPy (detected version 1.26.4\n",
      "  warnings.warn(f\"A NumPy version >={np_minversion} and <{np_maxversion}\"\n"
     ]
    }
   ],
   "source": [
    "from sklearn.model_selection import train_test_split "
   ]
  },
  {
   "cell_type": "code",
   "execution_count": 21,
   "id": "c72b4128",
   "metadata": {},
   "outputs": [],
   "source": [
    "x_train , x_test , y_train , y_test = train_test_split(x,y,test_size = 0.2 , random_state = 42)"
   ]
  },
  {
   "cell_type": "code",
   "execution_count": 22,
   "id": "7a19aeb0",
   "metadata": {},
   "outputs": [
    {
     "name": "stdout",
     "output_type": "stream",
     "text": [
      "Total data shape =  (100, 3)\n",
      "Independent  data shape =  (100, 2)\n",
      "Dependent  data shape =  (100,)\n",
      "X_train data shape= (80, 2)\n",
      "X_test data shape =  (20, 2)\n"
     ]
    }
   ],
   "source": [
    "print(\"Total data shape = \" , df.shape) \n",
    "print(\"Independent  data shape = \" , x.shape) \n",
    "print(\"Dependent  data shape = \" , y.shape) \n",
    "print(\"X_train data shape=\" , x_train.shape)\n",
    "print(\"X_test data shape = \" , x_test.shape)"
   ]
  },
  {
   "cell_type": "code",
   "execution_count": null,
   "id": "d28f8931",
   "metadata": {},
   "outputs": [],
   "source": []
  }
 ],
 "metadata": {
  "kernelspec": {
   "display_name": "Python 3 (ipykernel)",
   "language": "python",
   "name": "python3"
  },
  "language_info": {
   "codemirror_mode": {
    "name": "ipython",
    "version": 3
   },
   "file_extension": ".py",
   "mimetype": "text/x-python",
   "name": "python",
   "nbconvert_exporter": "python",
   "pygments_lexer": "ipython3",
   "version": "3.9.12"
  }
 },
 "nbformat": 4,
 "nbformat_minor": 5
}
