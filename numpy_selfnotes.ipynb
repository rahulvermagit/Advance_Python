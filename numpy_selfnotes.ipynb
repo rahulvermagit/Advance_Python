{
 "cells": [
  {
   "cell_type": "code",
   "execution_count": 3,
   "id": "bda35da2-056a-4f97-bed0-e69974066c77",
   "metadata": {},
   "outputs": [],
   "source": [
    "import numpy as np\n"
   ]
  },
  {
   "cell_type": "code",
   "execution_count": 2,
   "id": "e93f4dd5-76e4-4dcd-81b7-0257dcb75192",
   "metadata": {},
   "outputs": [
    {
     "data": {
      "text/plain": [
       "list"
      ]
     },
     "execution_count": 2,
     "metadata": {},
     "output_type": "execute_result"
    }
   ],
   "source": [
    "x=[1,2,3,4]\n",
    "type(x)"
   ]
  },
  {
   "cell_type": "code",
   "execution_count": 3,
   "id": "8ea1f0c5-f83a-41fe-b9b0-89658ea45fb7",
   "metadata": {},
   "outputs": [],
   "source": [
    "y=np.array(x)"
   ]
  },
  {
   "cell_type": "code",
   "execution_count": 4,
   "id": "b23f31c1-9fbf-4931-b2ff-0602665edacd",
   "metadata": {},
   "outputs": [
    {
     "data": {
      "text/plain": [
       "list"
      ]
     },
     "execution_count": 4,
     "metadata": {},
     "output_type": "execute_result"
    }
   ],
   "source": [
    "type(x)"
   ]
  },
  {
   "cell_type": "markdown",
   "id": "776d5115-b131-44a3-97b9-7c9804675658",
   "metadata": {},
   "source": [
    "type(y)"
   ]
  },
  {
   "cell_type": "code",
   "execution_count": 7,
   "id": "1bd645db-a893-479d-9675-313817d3f71d",
   "metadata": {},
   "outputs": [
    {
     "data": {
      "text/plain": [
       "array([1, 2, 3, 4])"
      ]
     },
     "execution_count": 7,
     "metadata": {},
     "output_type": "execute_result"
    }
   ],
   "source": [
    "y"
   ]
  },
  {
   "cell_type": "code",
   "execution_count": null,
   "id": "c05fdde3-cf18-48aa-86bb-95cebb2e5c12",
   "metadata": {},
   "outputs": [],
   "source": [
    "# how to create user difine array ?"
   ]
  },
  {
   "cell_type": "code",
   "execution_count": 14,
   "id": "4104a639-21d7-4ece-aa8b-4048849a4756",
   "metadata": {},
   "outputs": [
    {
     "name": "stdin",
     "output_type": "stream",
     "text": [
      "size of array : 4\n",
      "add item : 2\n",
      "add item : 2\n",
      "add item : 54\n",
      "add item : 54\n"
     ]
    },
    {
     "data": {
      "text/plain": [
       "array([ 2,  2, 54, 54])"
      ]
     },
     "execution_count": 14,
     "metadata": {},
     "output_type": "execute_result"
    }
   ],
   "source": [
    "a=[]\n",
    "size=int(input(\"size of array :\"))\n",
    "for i in range(size):\n",
    "    value=int(input(\"add item :\"))\n",
    "    a.append(value)\n",
    "c=np.array(a)\n",
    "c"
   ]
  },
  {
   "cell_type": "code",
   "execution_count": 17,
   "id": "a613099e-d10e-4fba-994a-0c640d733459",
   "metadata": {},
   "outputs": [],
   "source": [
    "# how can  we check size and shape of an array ?\n"
   ]
  },
  {
   "cell_type": "code",
   "execution_count": 19,
   "id": "fee9199e-7113-413a-ae51-3631a3e5e71f",
   "metadata": {},
   "outputs": [
    {
     "data": {
      "text/plain": [
       "array(['25', 'rahul', '12', '85'], dtype='<U11')"
      ]
     },
     "execution_count": 19,
     "metadata": {},
     "output_type": "execute_result"
    }
   ],
   "source": [
    "a=np.array([25,'rahul',12,85])\n",
    "a"
   ]
  },
  {
   "cell_type": "code",
   "execution_count": 20,
   "id": "7078f56d-992f-4cb8-99bb-885a54bba22b",
   "metadata": {},
   "outputs": [
    {
     "data": {
      "text/plain": [
       "(4,)"
      ]
     },
     "execution_count": 20,
     "metadata": {},
     "output_type": "execute_result"
    }
   ],
   "source": [
    "a.shape"
   ]
  },
  {
   "cell_type": "raw",
   "id": "fa23b1d7-e52c-4f4a-84a1-7677d3bc8930",
   "metadata": {},
   "source": []
  },
  {
   "cell_type": "code",
   "execution_count": 21,
   "id": "2fb6054e-22a6-40ab-bc3a-bd3f4e083e29",
   "metadata": {},
   "outputs": [
    {
     "name": "stdout",
     "output_type": "stream",
     "text": [
      "total elemets of a:  4\n"
     ]
    }
   ],
   "source": [
    "print(\"total elemets of a: \",a.size)"
   ]
  },
  {
   "cell_type": "code",
   "execution_count": 22,
   "id": "ba933ffd-ecbb-4dea-9066-edc528abd982",
   "metadata": {},
   "outputs": [
    {
     "data": {
      "text/plain": [
       "4"
      ]
     },
     "execution_count": 22,
     "metadata": {},
     "output_type": "execute_result"
    }
   ],
   "source": [
    "a.size"
   ]
  },
  {
   "cell_type": "code",
   "execution_count": 25,
   "id": "8ed4b3b4-3433-43ee-9720-e796826972ac",
   "metadata": {},
   "outputs": [
    {
     "data": {
      "text/plain": [
       "array([[ 1,  2,  3],\n",
       "       [ 5,  4,  8],\n",
       "       [ 5, 98,  9]])"
      ]
     },
     "execution_count": 25,
     "metadata": {},
     "output_type": "execute_result"
    }
   ],
   "source": [
    "a=[[1,2,3],[5,4,8],[5,98,9]]\n",
    "b=np.array(a)\n",
    "b"
   ]
  },
  {
   "cell_type": "code",
   "execution_count": 26,
   "id": "7a1a2c9a-6d17-488e-a740-1b11c53a8d56",
   "metadata": {},
   "outputs": [
    {
     "data": {
      "text/plain": [
       "(3, 3)"
      ]
     },
     "execution_count": 26,
     "metadata": {},
     "output_type": "execute_result"
    }
   ],
   "source": [
    "b.shape"
   ]
  },
  {
   "cell_type": "code",
   "execution_count": 27,
   "id": "ffb05426-21b8-42be-a87e-0f193e7ecfec",
   "metadata": {},
   "outputs": [
    {
     "data": {
      "text/plain": [
       "9"
      ]
     },
     "execution_count": 27,
     "metadata": {},
     "output_type": "execute_result"
    }
   ],
   "source": [
    "b.size"
   ]
  },
  {
   "cell_type": "code",
   "execution_count": null,
   "id": "e85eeac1-6163-4b4b-8eaf-5aef84bd83cf",
   "metadata": {},
   "outputs": [],
   "source": [
    "    # iMAGES ===> pixels(0-255) ===> 0px black , 255 px white ==> Normalize(0-1)px \n",
    "    \n",
    "    # Intially weights ===> 0 , 1 \n",
    "    \n",
    "    \n",
    "    # optimization ===> 0,1 \n",
    "    \n",
    "    \n",
    "    # matrix ===> n(rows) , n(columns) \n",
    "    \n",
    "    # symmatric Matrix ===> n(rows) = n(columns) \n",
    "    \n",
    "    # Aymmatric Matrix ===> n(rows) !=n(columns) \n",
    "    \n",
    "    # [(1,1) , (2,2) , (3,3) , (4,4)......(n,n)]\n"
   ]
  },
  {
   "cell_type": "code",
   "execution_count": null,
   "id": "357306c1-9492-41de-a6e1-d655504e2529",
   "metadata": {},
   "outputs": [],
   "source": [
    "# pre difine functions \n"
   ]
  },
  {
   "cell_type": "code",
   "execution_count": null,
   "id": "15d11870-971d-44ee-8ab1-db9c06cf6a6b",
   "metadata": {},
   "outputs": [],
   "source": [
    "# (1). zeros() ===> It will create an array in which all the elements are 0 . "
   ]
  },
  {
   "cell_type": "code",
   "execution_count": 30,
   "id": "55cd119f-5673-4fa7-9b10-7dd92ab90ea4",
   "metadata": {},
   "outputs": [
    {
     "data": {
      "text/plain": [
       "array([0., 0., 0., 0., 0.])"
      ]
     },
     "execution_count": 30,
     "metadata": {},
     "output_type": "execute_result"
    }
   ],
   "source": [
    "a=np.zeros(5)\n",
    "a"
   ]
  },
  {
   "cell_type": "code",
   "execution_count": 34,
   "id": "53b176b4-9b98-486a-bec3-0b0162ade821",
   "metadata": {},
   "outputs": [
    {
     "data": {
      "text/plain": [
       "array([[0., 0., 0.],\n",
       "       [0., 0., 0.],\n",
       "       [0., 0., 0.],\n",
       "       [0., 0., 0.]])"
      ]
     },
     "execution_count": 34,
     "metadata": {},
     "output_type": "execute_result"
    }
   ],
   "source": [
    "b=np.zeros((4,3))\n",
    "b"
   ]
  },
  {
   "cell_type": "code",
   "execution_count": null,
   "id": "040337c2-42ae-4667-9857-5bdf3b482a34",
   "metadata": {},
   "outputs": [],
   "source": [
    "# (2). ones() ===> It will create an array in which all the elments are 1 . \n",
    "\n"
   ]
  },
  {
   "cell_type": "code",
   "execution_count": 35,
   "id": "34acf020-8547-4a4d-ae5e-07d1f6c0483f",
   "metadata": {},
   "outputs": [
    {
     "data": {
      "text/plain": [
       "array([1., 1.])"
      ]
     },
     "execution_count": 35,
     "metadata": {},
     "output_type": "execute_result"
    }
   ],
   "source": [
    "a=np.ones(2)\n",
    "a"
   ]
  },
  {
   "cell_type": "code",
   "execution_count": 36,
   "id": "9acec94c-d198-4eb2-95d0-df91f1002417",
   "metadata": {},
   "outputs": [
    {
     "data": {
      "text/plain": [
       "array([[1., 1., 1., 1.],\n",
       "       [1., 1., 1., 1.],\n",
       "       [1., 1., 1., 1.]])"
      ]
     },
     "execution_count": 36,
     "metadata": {},
     "output_type": "execute_result"
    }
   ],
   "source": [
    "a=np.ones((3,4))\n",
    "a"
   ]
  },
  {
   "cell_type": "code",
   "execution_count": 37,
   "id": "8128d4f2-535e-43d3-b922-e070c84b5f2e",
   "metadata": {},
   "outputs": [
    {
     "data": {
      "text/plain": [
       "numpy.ndarray"
      ]
     },
     "execution_count": 37,
     "metadata": {},
     "output_type": "execute_result"
    }
   ],
   "source": [
    "type(a)"
   ]
  },
  {
   "cell_type": "code",
   "execution_count": 38,
   "id": "a816ed6b-55f2-4d0a-82cc-e7d5e7e3a842",
   "metadata": {},
   "outputs": [
    {
     "data": {
      "text/plain": [
       "(3, 4)"
      ]
     },
     "execution_count": 38,
     "metadata": {},
     "output_type": "execute_result"
    }
   ],
   "source": [
    "a.shape"
   ]
  },
  {
   "cell_type": "code",
   "execution_count": 39,
   "id": "03ec105d-aa6b-4f10-a2b7-ad85b5d908dc",
   "metadata": {},
   "outputs": [
    {
     "data": {
      "text/plain": [
       "12"
      ]
     },
     "execution_count": 39,
     "metadata": {},
     "output_type": "execute_result"
    }
   ],
   "source": [
    "a.size"
   ]
  },
  {
   "cell_type": "code",
   "execution_count": null,
   "id": "4c3bfee3-a885-42ea-9db8-b0b0785c4ec6",
   "metadata": {},
   "outputs": [],
   "source": [
    "# (3). eye() ====> In this function digonalpostional elements are 1 and rest all are zero . "
   ]
  },
  {
   "cell_type": "code",
   "execution_count": 40,
   "id": "28dd42fb-9121-413a-9b72-39a663026a6c",
   "metadata": {},
   "outputs": [
    {
     "data": {
      "text/plain": [
       "array([[1., 0., 0., 0., 0.],\n",
       "       [0., 1., 0., 0., 0.],\n",
       "       [0., 0., 1., 0., 0.],\n",
       "       [0., 0., 0., 1., 0.],\n",
       "       [0., 0., 0., 0., 1.]])"
      ]
     },
     "execution_count": 40,
     "metadata": {},
     "output_type": "execute_result"
    }
   ],
   "source": [
    "# symmatric Matrix\n",
    "a=np.eye(5)\n",
    "a"
   ]
  },
  {
   "cell_type": "code",
   "execution_count": 4,
   "id": "b64ad820-214d-45db-9d2c-9c9955d35c53",
   "metadata": {},
   "outputs": [
    {
     "data": {
      "text/plain": [
       "array([[1., 0., 0., 0.],\n",
       "       [0., 1., 0., 0.],\n",
       "       [0., 0., 1., 0.]])"
      ]
     },
     "execution_count": 4,
     "metadata": {},
     "output_type": "execute_result"
    }
   ],
   "source": [
    "# Aymmatric Matrix\n",
    "a=np.eye(3,4)\n",
    "a"
   ]
  },
  {
   "cell_type": "code",
   "execution_count": null,
   "id": "7b71034f-e182-4170-908b-57e1646d455a",
   "metadata": {},
   "outputs": [],
   "source": [
    "# 4 . diag ==> This function creats a two dimensional array with all the digonal elements as the given value and rest are zero . "
   ]
  },
  {
   "cell_type": "code",
   "execution_count": 7,
   "id": "2ee39ba9-c24c-46f1-a3df-dcd3f93be9f7",
   "metadata": {},
   "outputs": [
    {
     "data": {
      "text/plain": [
       "array([[1, 0, 0, 0],\n",
       "       [0, 5, 0, 0],\n",
       "       [0, 0, 7, 0],\n",
       "       [0, 0, 0, 9]])"
      ]
     },
     "execution_count": 7,
     "metadata": {},
     "output_type": "execute_result"
    }
   ],
   "source": [
    "a=np.diag([1,5,7,9])\n",
    "a"
   ]
  },
  {
   "cell_type": "code",
   "execution_count": null,
   "id": "7cc04184-c92a-4cfc-91cb-01a51974d65d",
   "metadata": {},
   "outputs": [],
   "source": [
    "# 5 . randint ==> This  function is used to generate a random number between a given range . "
   ]
  },
  {
   "cell_type": "code",
   "execution_count": null,
   "id": "8bbd7bfe-7b72-4869-bccf-8c2ca102e44a",
   "metadata": {},
   "outputs": [],
   "source": [
    "# syntax == randint(min_value , max_value , total_numbers) "
   ]
  },
  {
   "cell_type": "code",
   "execution_count": 13,
   "id": "b3d59b65-5b30-4c44-8b68-a6e82aa66fa5",
   "metadata": {},
   "outputs": [
    {
     "data": {
      "text/plain": [
       "array([ 6, 14, 11,  7,  5])"
      ]
     },
     "execution_count": 13,
     "metadata": {},
     "output_type": "execute_result"
    }
   ],
   "source": [
    "a=np.random.randint(1,15,5)\n",
    "a"
   ]
  },
  {
   "cell_type": "code",
   "execution_count": null,
   "id": "cd789a9d-0585-4218-ae82-3c95b8cad7aa",
   "metadata": {},
   "outputs": [],
   "source": [
    "# 6 . rand() ==> This function is used to generate a random number between 0 to 1 . \n",
    "# syntax == rand(numberof values) \n"
   ]
  },
  {
   "cell_type": "code",
   "execution_count": 16,
   "id": "deab388f-ca8a-4516-9a51-cc24dbfb8e01",
   "metadata": {},
   "outputs": [
    {
     "data": {
      "text/plain": [
       "array([0.18349249, 0.95914349, 0.40771257, 0.02265732])"
      ]
     },
     "execution_count": 16,
     "metadata": {},
     "output_type": "execute_result"
    }
   ],
   "source": [
    "a=np.random.rand(4)\n",
    "a"
   ]
  },
  {
   "cell_type": "code",
   "execution_count": null,
   "id": "a6095d3e-2ce8-4510-a77f-e9516b985477",
   "metadata": {},
   "outputs": [],
   "source": [
    "# 7 . randn() ==> This function is used to generate a random number from -3 to close 3 . This may return positive or negative numbers as well . \n",
    "\n",
    "# syntax == random.randn(number of values) "
   ]
  },
  {
   "cell_type": "code",
   "execution_count": 19,
   "id": "276e354b-30fb-4cab-80d5-ba8e8ffceafd",
   "metadata": {},
   "outputs": [
    {
     "data": {
      "text/plain": [
       "array([ 1.08580124, -0.25371678,  0.05619323,  0.04961101, -2.61150395])"
      ]
     },
     "execution_count": 19,
     "metadata": {},
     "output_type": "execute_result"
    }
   ],
   "source": [
    "a=np.random.randn(5)\n",
    "a"
   ]
  },
  {
   "cell_type": "code",
   "execution_count": null,
   "id": "1b562fc5-8ba3-4087-b866-65c6d890a493",
   "metadata": {},
   "outputs": [],
   "source": [
    "# Reshaping Data"
   ]
  },
  {
   "cell_type": "code",
   "execution_count": 20,
   "id": "b13c8d07-8908-41a1-8812-37b1d73414cd",
   "metadata": {},
   "outputs": [
    {
     "data": {
      "text/plain": [
       "array([24, 21,  4, 48, 22, 20, 19,  4, 37, 33, 23, 10])"
      ]
     },
     "execution_count": 20,
     "metadata": {},
     "output_type": "execute_result"
    }
   ],
   "source": [
    "a=np.random.randint(1,50,12)\n",
    "a"
   ]
  },
  {
   "cell_type": "code",
   "execution_count": null,
   "id": "0ec3ffca-7a4e-4581-b9ae-bd195f9d3fef",
   "metadata": {},
   "outputs": [],
   "source": [
    "# n(rows) * n(columns) = n(total_elements) "
   ]
  },
  {
   "cell_type": "code",
   "execution_count": 21,
   "id": "eeb1a35a-3863-4b78-b5cc-7d9fa3489e9e",
   "metadata": {},
   "outputs": [
    {
     "data": {
      "text/plain": [
       "(12,)"
      ]
     },
     "execution_count": 21,
     "metadata": {},
     "output_type": "execute_result"
    }
   ],
   "source": [
    "a.shape"
   ]
  },
  {
   "cell_type": "code",
   "execution_count": 22,
   "id": "1e937886-cae9-4d60-bb82-7e44de0e2997",
   "metadata": {},
   "outputs": [
    {
     "data": {
      "text/plain": [
       "12"
      ]
     },
     "execution_count": 22,
     "metadata": {},
     "output_type": "execute_result"
    }
   ],
   "source": [
    "a.size"
   ]
  },
  {
   "cell_type": "code",
   "execution_count": 29,
   "id": "21431bb5-eab0-4f9c-b389-7a292ca379bd",
   "metadata": {},
   "outputs": [
    {
     "data": {
      "text/plain": [
       "array([[24, 21,  4, 48, 22, 20],\n",
       "       [19,  4, 37, 33, 23, 10]])"
      ]
     },
     "execution_count": 29,
     "metadata": {},
     "output_type": "execute_result"
    }
   ],
   "source": [
    "a=a.reshape(2,6)\n",
    "a"
   ]
  },
  {
   "cell_type": "raw",
   "id": "88b70c92-f895-4eff-8338-991e36ba102f",
   "metadata": {},
   "source": []
  },
  {
   "cell_type": "code",
   "execution_count": 30,
   "id": "e8f88f3c-f616-4d24-bc63-66c30c637548",
   "metadata": {},
   "outputs": [
    {
     "data": {
      "text/plain": [
       "array([[24, 21],\n",
       "       [ 4, 48],\n",
       "       [22, 20],\n",
       "       [19,  4],\n",
       "       [37, 33],\n",
       "       [23, 10]])"
      ]
     },
     "execution_count": 30,
     "metadata": {},
     "output_type": "execute_result"
    }
   ],
   "source": [
    "a = a.reshape(6,2) \n",
    "a"
   ]
  },
  {
   "cell_type": "code",
   "execution_count": 31,
   "id": "92443716-cec3-48b2-b854-25452e41bceb",
   "metadata": {},
   "outputs": [
    {
     "data": {
      "text/plain": [
       "array([[24],\n",
       "       [21],\n",
       "       [ 4],\n",
       "       [48],\n",
       "       [22],\n",
       "       [20],\n",
       "       [19],\n",
       "       [ 4],\n",
       "       [37],\n",
       "       [33],\n",
       "       [23],\n",
       "       [10]])"
      ]
     },
     "execution_count": 31,
     "metadata": {},
     "output_type": "execute_result"
    }
   ],
   "source": [
    "a = a.reshape(12,1) \n",
    "a"
   ]
  },
  {
   "cell_type": "code",
   "execution_count": null,
   "id": "03f5578f-af63-4bb1-9e95-3814c77efbc4",
   "metadata": {},
   "outputs": [],
   "source": [
    "# principal of -1 "
   ]
  },
  {
   "cell_type": "code",
   "execution_count": 33,
   "id": "81c8d697-8521-4445-9b76-e3f33cb1266d",
   "metadata": {},
   "outputs": [
    {
     "data": {
      "text/plain": [
       "array([[24, 21,  4, 48],\n",
       "       [22, 20, 19,  4],\n",
       "       [37, 33, 23, 10]])"
      ]
     },
     "execution_count": 33,
     "metadata": {},
     "output_type": "execute_result"
    }
   ],
   "source": [
    "a=a.reshape(-1,4)\n",
    "a"
   ]
  },
  {
   "cell_type": "code",
   "execution_count": null,
   "id": "d418a871-fb60-4c22-a6fa-5d04e460181d",
   "metadata": {},
   "outputs": [],
   "source": [
    "#  Seed Function ()  ==> We know that randint function generates random numbers .\n",
    "#  Everytime we run the program  , new set of random number is generated .\n",
    "#  So , solve this problem we will use seed function . "
   ]
  },
  {
   "cell_type": "code",
   "execution_count": 36,
   "id": "6de53d94-323c-4006-a630-8e1c3ed42a69",
   "metadata": {},
   "outputs": [],
   "source": [
    "import numpy as np\n"
   ]
  },
  {
   "cell_type": "code",
   "execution_count": 48,
   "id": "330358c1-63ad-45c0-af9c-abd548f3b58d",
   "metadata": {},
   "outputs": [
    {
     "data": {
      "text/plain": [
       "array([36, 15, 48, 39, 17, 10,  9, 37, 40, 28, 49, 31])"
      ]
     },
     "execution_count": 48,
     "metadata": {},
     "output_type": "execute_result"
    }
   ],
   "source": [
    "np.random.seed(5)\n",
    "a=np.random.randint(1,50,12)\n",
    "a\n",
    "\n",
    "# seed me kuch likh denge to value change nhi hogi run krane pr \n",
    "# khali rkhne me value change hoti rhegi"
   ]
  },
  {
   "cell_type": "code",
   "execution_count": null,
   "id": "6596c1bf-c314-47c9-8757-d859922755c6",
   "metadata": {},
   "outputs": [],
   "source": [
    "# View Vs Copy ==> When we slice a sub-array from an array , it may be done by two ways . "
   ]
  },
  {
   "cell_type": "code",
   "execution_count": 54,
   "id": "a04eea27-1db3-4806-9f1e-ad5043c8b2f8",
   "metadata": {},
   "outputs": [
    {
     "data": {
      "text/plain": [
       "array([1, 5, 8, 0, 0, 0, 4, 6, 5, 4])"
      ]
     },
     "execution_count": 54,
     "metadata": {},
     "output_type": "execute_result"
    }
   ],
   "source": [
    "import numpy as np\n",
    "a=np.array([1,5,8,4,6,8,4,6,5,4])\n",
    "b=a[3:6]\n",
    "b[:]=0\n",
    "a\n"
   ]
  },
  {
   "cell_type": "code",
   "execution_count": 51,
   "id": "afd5d9d7-82d4-445b-8c22-d6284eb78d7f",
   "metadata": {},
   "outputs": [
    {
     "data": {
      "text/plain": [
       "array([1, 5, 6, 4, 8, 6, 2, 8, 5])"
      ]
     },
     "execution_count": 51,
     "metadata": {},
     "output_type": "execute_result"
    }
   ],
   "source": [
    "#copy\n",
    "a=np.array([1,5,6,4,8,6,2,8,5])\n",
    "b=a[3:6].copy()\n",
    "b[:]=1\n",
    "a"
   ]
  },
  {
   "cell_type": "code",
   "execution_count": 52,
   "id": "27735917-465f-48a9-99f7-7d8f6dd23aa4",
   "metadata": {},
   "outputs": [
    {
     "data": {
      "text/plain": [
       "array([1, 1, 1])"
      ]
     },
     "execution_count": 52,
     "metadata": {},
     "output_type": "execute_result"
    }
   ],
   "source": [
    "b"
   ]
  },
  {
   "cell_type": "code",
   "execution_count": null,
   "id": "c9289bff-9483-43b4-8f7e-c131b6f2fd39",
   "metadata": {},
   "outputs": [],
   "source": [
    "# conditional selection \n"
   ]
  },
  {
   "cell_type": "code",
   "execution_count": 57,
   "id": "12ec577f-d2ee-4341-b0fd-ab6ab66ced26",
   "metadata": {},
   "outputs": [
    {
     "data": {
      "text/plain": [
       "array([ 1,  2,  3,  4,  5,  6,  7,  8,  9, 10, 11, 12, 13, 14, 15])"
      ]
     },
     "execution_count": 57,
     "metadata": {},
     "output_type": "execute_result"
    }
   ],
   "source": [
    "a=np.arange(1,16)\n",
    "a"
   ]
  },
  {
   "cell_type": "code",
   "execution_count": 58,
   "id": "d9dddbbd-6331-40ad-9c5e-464cbc90518d",
   "metadata": {},
   "outputs": [
    {
     "data": {
      "text/plain": [
       "array([False, False, False, False, False, False, False, False, False,\n",
       "       False,  True,  True,  True,  True,  True])"
      ]
     },
     "execution_count": 58,
     "metadata": {},
     "output_type": "execute_result"
    }
   ],
   "source": [
    "a>10"
   ]
  },
  {
   "cell_type": "code",
   "execution_count": 59,
   "id": "767b145f-26aa-4369-beac-959467ebc0f1",
   "metadata": {},
   "outputs": [
    {
     "data": {
      "text/plain": [
       "array([ True,  True,  True,  True,  True,  True,  True,  True,  True,\n",
       "       False, False, False, False, False, False])"
      ]
     },
     "execution_count": 59,
     "metadata": {},
     "output_type": "execute_result"
    }
   ],
   "source": [
    "a<10"
   ]
  },
  {
   "cell_type": "code",
   "execution_count": 60,
   "id": "90e87a2b-8f83-4046-ac48-6b233ad391dd",
   "metadata": {},
   "outputs": [
    {
     "data": {
      "text/plain": [
       "array([False, False, False, False, False, False, False, False, False,\n",
       "       False,  True, False, False, False, False])"
      ]
     },
     "execution_count": 60,
     "metadata": {},
     "output_type": "execute_result"
    }
   ],
   "source": [
    "a==11"
   ]
  },
  {
   "cell_type": "code",
   "execution_count": 61,
   "id": "3620494f-c3cf-4988-a67b-1934d6bc97cf",
   "metadata": {},
   "outputs": [
    {
     "data": {
      "text/plain": [
       "[array([False, False, False, False, False, False, False, False, False,\n",
       "        False,  True,  True,  True,  True,  True])]"
      ]
     },
     "execution_count": 61,
     "metadata": {},
     "output_type": "execute_result"
    }
   ],
   "source": [
    "b=[a>10]\n",
    "b"
   ]
  },
  {
   "cell_type": "code",
   "execution_count": 64,
   "id": "6669f8d7-0a94-4e06-becd-1c18b2a628cd",
   "metadata": {},
   "outputs": [
    {
     "data": {
      "text/plain": [
       "array([11, 12, 13, 14, 15])"
      ]
     },
     "execution_count": 64,
     "metadata": {},
     "output_type": "execute_result"
    }
   ],
   "source": [
    "b=a>10\n",
    "a[b]"
   ]
  },
  {
   "cell_type": "code",
   "execution_count": 67,
   "id": "611eb9f2-d824-4cea-b779-c46f77f4bb1e",
   "metadata": {},
   "outputs": [
    {
     "data": {
      "text/plain": [
       "array([ 2,  4,  6,  8, 10, 12, 14])"
      ]
     },
     "execution_count": 67,
     "metadata": {},
     "output_type": "execute_result"
    }
   ],
   "source": [
    "b=a%2==0\n",
    "a[b]"
   ]
  },
  {
   "cell_type": "code",
   "execution_count": 68,
   "id": "2d51da8a-9516-4f74-b5e6-558038c994f8",
   "metadata": {},
   "outputs": [
    {
     "data": {
      "text/plain": [
       "array([ 2,  4,  6,  8, 10, 12, 14])"
      ]
     },
     "execution_count": 68,
     "metadata": {},
     "output_type": "execute_result"
    }
   ],
   "source": [
    "# or \n",
    "a[a%2==0]"
   ]
  },
  {
   "cell_type": "code",
   "execution_count": 71,
   "id": "89e68bb9-5749-4afb-ae1c-ff15581ef1ad",
   "metadata": {},
   "outputs": [
    {
     "data": {
      "text/plain": [
       "array([ 2,  4,  6,  8, 10, 12, 14, 16, 18])"
      ]
     },
     "execution_count": 71,
     "metadata": {},
     "output_type": "execute_result"
    }
   ],
   "source": [
    "# Operations on Array \n",
    "a=np.arange(1,10)\n",
    "a*2"
   ]
  },
  {
   "cell_type": "code",
   "execution_count": 72,
   "id": "6a02e7c5-d146-4a19-87d6-38a8c3aa0c6f",
   "metadata": {},
   "outputs": [
    {
     "data": {
      "text/plain": [
       "array([ 3,  4,  5,  6,  7,  8,  9, 10, 11])"
      ]
     },
     "execution_count": 72,
     "metadata": {},
     "output_type": "execute_result"
    }
   ],
   "source": [
    "a+2"
   ]
  },
  {
   "cell_type": "code",
   "execution_count": 73,
   "id": "5e20e42f-9737-4b96-8c1b-571241738baa",
   "metadata": {},
   "outputs": [
    {
     "data": {
      "text/plain": [
       "array([ 1,  4,  9, 16, 25, 36, 49, 64, 81])"
      ]
     },
     "execution_count": 73,
     "metadata": {},
     "output_type": "execute_result"
    }
   ],
   "source": [
    "a**2"
   ]
  },
  {
   "cell_type": "code",
   "execution_count": 74,
   "id": "cbd9a07d-b48b-43ee-ad81-e4b8f6f00a9c",
   "metadata": {},
   "outputs": [
    {
     "data": {
      "text/plain": [
       "array([[1, 5, 6, 8],\n",
       "       [4, 5, 6, 5]])"
      ]
     },
     "execution_count": 74,
     "metadata": {},
     "output_type": "execute_result"
    }
   ],
   "source": [
    "a=np.array([1,5,6,8,4,5,6,5]).reshape(2,4)\n",
    "a"
   ]
  },
  {
   "cell_type": "code",
   "execution_count": 75,
   "id": "caa6d0f6-ed12-4291-865e-8f09e48bdc83",
   "metadata": {},
   "outputs": [
    {
     "data": {
      "text/plain": [
       "array([[5, 8, 4, 5],\n",
       "       [8, 4, 5, 7]])"
      ]
     },
     "execution_count": 75,
     "metadata": {},
     "output_type": "execute_result"
    }
   ],
   "source": [
    "b=np.array([5,8,4,5,8,4,5,7]).reshape(2,4)\n",
    "b"
   ]
  },
  {
   "cell_type": "code",
   "execution_count": 76,
   "id": "fa7a6d64-5afd-4913-81da-4e85783d7d40",
   "metadata": {},
   "outputs": [
    {
     "data": {
      "text/plain": [
       "array([[ 6, 13, 10, 13],\n",
       "       [12,  9, 11, 12]])"
      ]
     },
     "execution_count": 76,
     "metadata": {},
     "output_type": "execute_result"
    }
   ],
   "source": [
    "a+b"
   ]
  },
  {
   "cell_type": "code",
   "execution_count": 77,
   "id": "f1ec10c7-6d41-402e-ba0b-ac2de1f33c17",
   "metadata": {},
   "outputs": [
    {
     "data": {
      "text/plain": [
       "array([[ 4,  3, -2, -3],\n",
       "       [ 4, -1, -1,  2]])"
      ]
     },
     "execution_count": 77,
     "metadata": {},
     "output_type": "execute_result"
    }
   ],
   "source": [
    "b-a"
   ]
  },
  {
   "cell_type": "code",
   "execution_count": 78,
   "id": "5e414cd1-e45c-4411-8aa1-ddef81743987",
   "metadata": {},
   "outputs": [
    {
     "data": {
      "text/plain": [
       "array([[5.        , 1.6       , 0.66666667, 0.625     ],\n",
       "       [2.        , 0.8       , 0.83333333, 1.4       ]])"
      ]
     },
     "execution_count": 78,
     "metadata": {},
     "output_type": "execute_result"
    }
   ],
   "source": [
    "b/a"
   ]
  },
  {
   "cell_type": "code",
   "execution_count": 79,
   "id": "87c9b358-6b1f-4991-a5a8-8489d5c2395b",
   "metadata": {},
   "outputs": [
    {
     "data": {
      "text/plain": [
       "array([[ 5, 40, 24, 40],\n",
       "       [32, 20, 30, 35]])"
      ]
     },
     "execution_count": 79,
     "metadata": {},
     "output_type": "execute_result"
    }
   ],
   "source": [
    "a*b"
   ]
  },
  {
   "cell_type": "code",
   "execution_count": 81,
   "id": "f78433db-bd26-4c01-8e93-522f5e5680b4",
   "metadata": {},
   "outputs": [
    {
     "ename": "ValueError",
     "evalue": "shapes (2,4) and (2,4) not aligned: 4 (dim 1) != 2 (dim 0)",
     "output_type": "error",
     "traceback": [
      "\u001b[1;31m---------------------------------------------------------------------------\u001b[0m",
      "\u001b[1;31mValueError\u001b[0m                                Traceback (most recent call last)",
      "Cell \u001b[1;32mIn[81], line 1\u001b[0m\n\u001b[1;32m----> 1\u001b[0m \u001b[43ma\u001b[49m\u001b[38;5;241;43m.\u001b[39;49m\u001b[43mdot\u001b[49m\u001b[43m(\u001b[49m\u001b[43mb\u001b[49m\u001b[43m)\u001b[49m\n",
      "\u001b[1;31mValueError\u001b[0m: shapes (2,4) and (2,4) not aligned: 4 (dim 1) != 2 (dim 0)"
     ]
    }
   ],
   "source": [
    "a.dot(b)"
   ]
  },
  {
   "cell_type": "code",
   "execution_count": 82,
   "id": "062fa84e-307c-4125-b885-2a8e105c27fe",
   "metadata": {},
   "outputs": [
    {
     "ename": "ValueError",
     "evalue": "shapes (2,4) and (2,4) not aligned: 4 (dim 1) != 2 (dim 0)",
     "output_type": "error",
     "traceback": [
      "\u001b[1;31m---------------------------------------------------------------------------\u001b[0m",
      "\u001b[1;31mValueError\u001b[0m                                Traceback (most recent call last)",
      "Cell \u001b[1;32mIn[82], line 1\u001b[0m\n\u001b[1;32m----> 1\u001b[0m \u001b[43ma\u001b[49m\u001b[38;5;241;43m.\u001b[39;49m\u001b[43mdot\u001b[49m\u001b[43m(\u001b[49m\u001b[43mb\u001b[49m\u001b[43m)\u001b[49m\n",
      "\u001b[1;31mValueError\u001b[0m: shapes (2,4) and (2,4) not aligned: 4 (dim 1) != 2 (dim 0)"
     ]
    }
   ],
   "source": [
    "a.dot(b)"
   ]
  },
  {
   "cell_type": "code",
   "execution_count": null,
   "id": "884248a3-4e37-42b7-87e8-a177598a906d",
   "metadata": {},
   "outputs": [],
   "source": []
  },
  {
   "cell_type": "code",
   "execution_count": null,
   "id": "9964d3f3-3213-4b12-8105-105900a7e8e9",
   "metadata": {},
   "outputs": [],
   "source": [
    "# some more important numpy functions "
   ]
  },
  {
   "cell_type": "code",
   "execution_count": 84,
   "id": "d3f12a0a-57b3-4f1e-a159-ced394a4986b",
   "metadata": {},
   "outputs": [
    {
     "data": {
      "text/plain": [
       "1"
      ]
     },
     "execution_count": 84,
     "metadata": {},
     "output_type": "execute_result"
    }
   ],
   "source": [
    "import numpy as np\n",
    "a=np.array([1,4,5,6,8,25,61,5454])\n",
    "min(a)\n"
   ]
  },
  {
   "cell_type": "code",
   "execution_count": 85,
   "id": "7c323f40-8d2a-4ae4-859f-de40d259826d",
   "metadata": {},
   "outputs": [
    {
     "data": {
      "text/plain": [
       "5454"
      ]
     },
     "execution_count": 85,
     "metadata": {},
     "output_type": "execute_result"
    }
   ],
   "source": [
    "max(a)"
   ]
  },
  {
   "cell_type": "code",
   "execution_count": 86,
   "id": "a1714407-17eb-4177-884d-3f052eebc706",
   "metadata": {},
   "outputs": [
    {
     "data": {
      "text/plain": [
       "1"
      ]
     },
     "execution_count": 86,
     "metadata": {},
     "output_type": "execute_result"
    }
   ],
   "source": [
    "#or\n",
    "np.min(a)   #it will return minium value of the array "
   ]
  },
  {
   "cell_type": "code",
   "execution_count": 87,
   "id": "afa75233-bb6d-44fa-830c-2472111dfd40",
   "metadata": {},
   "outputs": [
    {
     "data": {
      "text/plain": [
       "5454"
      ]
     },
     "execution_count": 87,
     "metadata": {},
     "output_type": "execute_result"
    }
   ],
   "source": [
    "np.max(a)"
   ]
  },
  {
   "cell_type": "code",
   "execution_count": 88,
   "id": "f777bf48-0f7a-4fc8-9858-8364e8a635f7",
   "metadata": {},
   "outputs": [
    {
     "data": {
      "text/plain": [
       "0"
      ]
     },
     "execution_count": 88,
     "metadata": {},
     "output_type": "execute_result"
    }
   ],
   "source": [
    "np.argmin(a)       #it will return indexing of minimum value"
   ]
  },
  {
   "cell_type": "code",
   "execution_count": 89,
   "id": "df2137eb-a522-4772-9761-daa171183661",
   "metadata": {},
   "outputs": [
    {
     "data": {
      "text/plain": [
       "7"
      ]
     },
     "execution_count": 89,
     "metadata": {},
     "output_type": "execute_result"
    }
   ],
   "source": [
    "np.argmax(a)    #it will return indexing of maxmim value"
   ]
  },
  {
   "cell_type": "code",
   "execution_count": 90,
   "id": "33a83318-fd12-438a-a935-32ab62da8858",
   "metadata": {},
   "outputs": [
    {
     "data": {
      "text/plain": [
       "array([ 1.        ,  2.        ,  2.23606798,  2.44948974,  2.82842712,\n",
       "        5.        ,  7.81024968, 73.85120175])"
      ]
     },
     "execution_count": 90,
     "metadata": {},
     "output_type": "execute_result"
    }
   ],
   "source": [
    "np.sqrt(a)"
   ]
  },
  {
   "cell_type": "code",
   "execution_count": 91,
   "id": "e93ee6fa-6645-4593-be08-1588915fcaae",
   "metadata": {},
   "outputs": [
    {
     "data": {
      "text/plain": [
       "array([ 0.84147098, -0.7568025 , -0.95892427, -0.2794155 ,  0.98935825,\n",
       "       -0.13235175, -0.96611777,  0.19391699])"
      ]
     },
     "execution_count": 91,
     "metadata": {},
     "output_type": "execute_result"
    }
   ],
   "source": [
    "np.sin(a)"
   ]
  },
  {
   "cell_type": "code",
   "execution_count": null,
   "id": "459285ea-bbfa-4993-b346-cc09f0127c9f",
   "metadata": {},
   "outputs": [],
   "source": [
    "# Linspace() ==> This function returns value between a given range and with a same gap between consicutive elements . "
   ]
  },
  {
   "cell_type": "code",
   "execution_count": 100,
   "id": "09133645-f54b-4b22-ab93-43cf74a4f3f1",
   "metadata": {},
   "outputs": [
    {
     "data": {
      "text/plain": [
       "array([1.  , 1.25, 1.5 , 1.75, 2.  ])"
      ]
     },
     "execution_count": 100,
     "metadata": {},
     "output_type": "execute_result"
    }
   ],
   "source": [
    "import numpy as np\n",
    "a=np.linspace(1,2,5)\n",
    "a"
   ]
  },
  {
   "cell_type": "code",
   "execution_count": 109,
   "id": "96aa4e65-b9aa-415b-a20d-93847a7cee14",
   "metadata": {},
   "outputs": [
    {
     "data": {
      "text/plain": [
       "array([[10, 14, 23],\n",
       "       [22, 15, 15],\n",
       "       [19, 24, 24]])"
      ]
     },
     "execution_count": 109,
     "metadata": {},
     "output_type": "execute_result"
    }
   ],
   "source": [
    "np.random.seed(25245)\n",
    "a=np.random.randint(10,25,9).reshape(3,3)\n",
    "a"
   ]
  },
  {
   "cell_type": "code",
   "execution_count": 110,
   "id": "f5d390a2-3f21-4274-9aba-cdce061f83fb",
   "metadata": {},
   "outputs": [
    {
     "data": {
      "text/plain": [
       "array([51, 53, 62])"
      ]
     },
     "execution_count": 110,
     "metadata": {},
     "output_type": "execute_result"
    }
   ],
   "source": [
    "sum(a)"
   ]
  },
  {
   "cell_type": "code",
   "execution_count": 111,
   "id": "e0a162d0-7617-4d99-a8a1-a14e0531d72a",
   "metadata": {},
   "outputs": [
    {
     "data": {
      "text/plain": [
       "166"
      ]
     },
     "execution_count": 111,
     "metadata": {},
     "output_type": "execute_result"
    }
   ],
   "source": [
    "np.sum(a)"
   ]
  },
  {
   "cell_type": "code",
   "execution_count": 112,
   "id": "d1064c03-6791-4461-b090-71db667015c9",
   "metadata": {},
   "outputs": [
    {
     "data": {
      "text/plain": [
       "array([47, 52, 67])"
      ]
     },
     "execution_count": 112,
     "metadata": {},
     "output_type": "execute_result"
    }
   ],
   "source": [
    "b=np.sum(a , axis = 1)        ###########################################################################"
   ]
  },
  {
   "cell_type": "code",
   "execution_count": 117,
   "id": "6c0e79b2-76fb-4584-9e78-b016f9e3fc6e",
   "metadata": {},
   "outputs": [
    {
     "data": {
      "text/plain": [
       "10"
      ]
     },
     "execution_count": 117,
     "metadata": {},
     "output_type": "execute_result"
    }
   ],
   "source": [
    "np.min(a)"
   ]
  },
  {
   "cell_type": "code",
   "execution_count": 119,
   "id": "49ff32fa-cf49-48b7-94cd-b27a0f453a95",
   "metadata": {},
   "outputs": [
    {
     "data": {
      "text/plain": [
       "24"
      ]
     },
     "execution_count": 119,
     "metadata": {},
     "output_type": "execute_result"
    }
   ],
   "source": [
    "np.max(a)"
   ]
  },
  {
   "cell_type": "code",
   "execution_count": 120,
   "id": "ad7036d4-e2bd-4338-8eec-15779eb84558",
   "metadata": {},
   "outputs": [
    {
     "data": {
      "text/plain": [
       "array([ 10,  24,  47,  69,  84,  99, 118, 142, 166])"
      ]
     },
     "execution_count": 120,
     "metadata": {},
     "output_type": "execute_result"
    }
   ],
   "source": [
    "np.cumsum(a)            ##############################################################################"
   ]
  },
  {
   "cell_type": "code",
   "execution_count": 121,
   "id": "a1e66f1e-4bc1-4aa7-b384-5166776bac7f",
   "metadata": {},
   "outputs": [
    {
     "data": {
      "text/plain": [
       "array([[10, 14, 23],\n",
       "       [22, 15, 15],\n",
       "       [19, 24, 24]])"
      ]
     },
     "execution_count": 121,
     "metadata": {},
     "output_type": "execute_result"
    }
   ],
   "source": [
    "a"
   ]
  },
  {
   "cell_type": "code",
   "execution_count": null,
   "id": "45edec2a-0c54-49c2-ad70-761fe1e5825d",
   "metadata": {},
   "outputs": [],
   "source": [
    "# np.unique(arr , return_index = True , return_counts = True) \n",
    "\n",
    "returns 3 array . \n",
    "1 . the array with unique values . \n",
    "2 . the array with respective index value . \n",
    "3 . the array with counting of frequencey . "
   ]
  },
  {
   "cell_type": "code",
   "execution_count": 126,
   "id": "9f072cb3-1ae9-4094-89f1-196713cbe945",
   "metadata": {},
   "outputs": [
    {
     "data": {
      "text/plain": [
       "(array([2, 4, 5, 8, 9]),\n",
       " array([0, 5, 1, 4, 2], dtype=int64),\n",
       " array([2, 1, 3, 1, 2], dtype=int64))"
      ]
     },
     "execution_count": 126,
     "metadata": {},
     "output_type": "execute_result"
    }
   ],
   "source": [
    "a=np.array([2,5,9,5,8,4,9,2,5])\n",
    "np.unique(a ,return_index = True, return_counts = True)"
   ]
  },
  {
   "cell_type": "code",
   "execution_count": null,
   "id": "dbb172b4-cb3c-4ec1-9901-0e74212f0c9e",
   "metadata": {},
   "outputs": [],
   "source": [
    "# horizontal and vertical stacking"
   ]
  },
  {
   "cell_type": "code",
   "execution_count": 129,
   "id": "7e007114-4e68-4bf2-a438-91340b453b9f",
   "metadata": {},
   "outputs": [],
   "source": [
    "a=np.array([1,2,3,4])\n",
    "b=np.array([5,6,7,8])\n"
   ]
  },
  {
   "cell_type": "code",
   "execution_count": 130,
   "id": "4971d3f9-3af3-47d0-94e2-a2ede264c02b",
   "metadata": {},
   "outputs": [
    {
     "data": {
      "text/plain": [
       "array([1, 2, 3, 4])"
      ]
     },
     "execution_count": 130,
     "metadata": {},
     "output_type": "execute_result"
    }
   ],
   "source": [
    "a"
   ]
  },
  {
   "cell_type": "code",
   "execution_count": 131,
   "id": "7508af08-6781-40c0-8dd6-d2e7869cd628",
   "metadata": {},
   "outputs": [
    {
     "data": {
      "text/plain": [
       "array([5, 6, 7, 8])"
      ]
     },
     "execution_count": 131,
     "metadata": {},
     "output_type": "execute_result"
    }
   ],
   "source": [
    "b"
   ]
  },
  {
   "cell_type": "code",
   "execution_count": 133,
   "id": "23f4edab-efde-4f90-9545-6b3a95404202",
   "metadata": {},
   "outputs": [
    {
     "data": {
      "text/plain": [
       "array([1, 2, 3, 4, 5, 6, 7, 8])"
      ]
     },
     "execution_count": 133,
     "metadata": {},
     "output_type": "execute_result"
    }
   ],
   "source": [
    "np.hstack((a,b))"
   ]
  },
  {
   "cell_type": "code",
   "execution_count": 134,
   "id": "38672a74-d13f-4867-ab84-76d28be04d50",
   "metadata": {},
   "outputs": [
    {
     "data": {
      "text/plain": [
       "array([[1, 2, 3, 4],\n",
       "       [5, 6, 7, 8]])"
      ]
     },
     "execution_count": 134,
     "metadata": {},
     "output_type": "execute_result"
    }
   ],
   "source": [
    "np.vstack((a,b))"
   ]
  },
  {
   "cell_type": "code",
   "execution_count": null,
   "id": "4e9d07dd-1345-4f9a-bda1-a5e6260c5f74",
   "metadata": {},
   "outputs": [],
   "source": [
    "# Q.1 = Write statement to import numpy ? \n",
    "\n",
    "#Q.2 = Create an array using numpy ? \n",
    "\n",
    "#Q.3 = Create an array of 10 random integers ?\n",
    "\n",
    " #Q.4 = Create an array of elements from  10-20? \n",
    "\n",
    "#Q.5 = Create an array which contains value 5 , 10 times ? \n",
    "\n",
    "#Q.6 = Create a one dimensional array and convert that into 3*3 matrix ? \n",
    "\n",
    "#Q.7 = Create a 2D array of size 3*3 but all the elements should be between 0 to 1 ? \n",
    "\n",
    "#Q.8 = Concatenate 2D array horizontally and vertically ? "
   ]
  },
  {
   "cell_type": "code",
   "execution_count": 135,
   "id": "e05d6906-0a2f-499d-805f-af8aeb415aed",
   "metadata": {},
   "outputs": [],
   "source": [
    "# ans- 1\n",
    "import numpy as np"
   ]
  },
  {
   "cell_type": "code",
   "execution_count": null,
   "id": "cca31a07-9403-4e3a-8941-419cb5a936a8",
   "metadata": {},
   "outputs": [],
   "source": []
  },
  {
   "cell_type": "code",
   "execution_count": 146,
   "id": "d0074ee9-f507-42ad-b41f-c2c786ee2116",
   "metadata": {},
   "outputs": [
    {
     "name": "stdout",
     "output_type": "stream",
     "text": [
      "1d aarray : [1 4 5 8]\n",
      "2d array :\n",
      " [[1 2 3]\n",
      " [5 6 8]]\n"
     ]
    }
   ],
   "source": [
    "# (2) ans\n",
    "a=[1,4,5,8]\n",
    "b=np.array(a)\n",
    "print(\"1d aarray :\",b)\n",
    "c=np.array([[1,2,3],[5,6,8]])\n",
    "print(\"2d array :\\n\"  ,     c)"
   ]
  },
  {
   "cell_type": "code",
   "execution_count": null,
   "id": "ce8fbfba-74c0-4b5c-8359-9771022da7df",
   "metadata": {},
   "outputs": [],
   "source": []
  },
  {
   "cell_type": "code",
   "execution_count": 147,
   "id": "5e6a9b0a-f857-42ac-8ab2-8cd51af02cb5",
   "metadata": {},
   "outputs": [
    {
     "data": {
      "text/plain": [
       "array([ 5, 15,  4, 10, 17, 18, 16, 18, 13, 17])"
      ]
     },
     "execution_count": 147,
     "metadata": {},
     "output_type": "execute_result"
    }
   ],
   "source": [
    "# ans - 3\n",
    "a=np.random.randint(1,20,10)\n",
    "a"
   ]
  },
  {
   "cell_type": "code",
   "execution_count": 150,
   "id": "4111157a-e535-4210-b60f-a70e0948dddb",
   "metadata": {},
   "outputs": [
    {
     "name": "stdout",
     "output_type": "stream",
     "text": [
      "value 10 se 20 tak : [10 11 12 13 14 15 16 17 18 19 20]\n"
     ]
    }
   ],
   "source": [
    "# ans -4\n",
    "a=np.arange(10,21)\n",
    "print(\"value 10 se 20 tak :\" ,a)"
   ]
  },
  {
   "cell_type": "code",
   "execution_count": 154,
   "id": "c09f2738-ac5a-4a30-a927-adcaa666f2dd",
   "metadata": {},
   "outputs": [
    {
     "data": {
      "text/plain": [
       "array([5, 5, 5, 5, 5, 5, 5, 5, 5, 5])"
      ]
     },
     "execution_count": 154,
     "metadata": {},
     "output_type": "execute_result"
    }
   ],
   "source": [
    "# ans - 5\n",
    "a=np.full(10,5)\n",
    "a\n",
    "# Creating an array with the value 5 repeated 10 times"
   ]
  },
  {
   "cell_type": "code",
   "execution_count": 155,
   "id": "8cc24b26-67d6-40c7-8590-589063851bcf",
   "metadata": {},
   "outputs": [
    {
     "data": {
      "text/plain": [
       "array([ 2,  5,  9,  4,  4, 96,  1,  5,  2])"
      ]
     },
     "execution_count": 155,
     "metadata": {},
     "output_type": "execute_result"
    }
   ],
   "source": [
    "# ans -6\n",
    "a=np.array([2,5,9,4,4,96,1,5,2])\n",
    "a"
   ]
  },
  {
   "cell_type": "code",
   "execution_count": 158,
   "id": "a7f68220-716f-4cbe-a425-3151668dcfb8",
   "metadata": {},
   "outputs": [
    {
     "data": {
      "text/plain": [
       "9"
      ]
     },
     "execution_count": 158,
     "metadata": {},
     "output_type": "execute_result"
    }
   ],
   "source": [
    "a.size\n"
   ]
  },
  {
   "cell_type": "code",
   "execution_count": 159,
   "id": "dce3f48f-e8ec-4036-860d-ce2fef4820fc",
   "metadata": {},
   "outputs": [
    {
     "data": {
      "text/plain": [
       "1"
      ]
     },
     "execution_count": 159,
     "metadata": {},
     "output_type": "execute_result"
    }
   ],
   "source": [
    "a.ndim"
   ]
  },
  {
   "cell_type": "code",
   "execution_count": 160,
   "id": "670484b7-7aee-4df7-b4ea-e921a64d1c90",
   "metadata": {},
   "outputs": [
    {
     "data": {
      "text/plain": [
       "array([[ 2,  5,  9],\n",
       "       [ 4,  4, 96],\n",
       "       [ 1,  5,  2]])"
      ]
     },
     "execution_count": 160,
     "metadata": {},
     "output_type": "execute_result"
    }
   ],
   "source": [
    "b=np.array(a).reshape(3,3)\n",
    "b\n"
   ]
  },
  {
   "cell_type": "code",
   "execution_count": 163,
   "id": "f06585de-1104-4bb0-b194-69c05abf2766",
   "metadata": {},
   "outputs": [
    {
     "data": {
      "text/plain": [
       "array([[0.   , 0.125, 0.25 ],\n",
       "       [0.375, 0.5  , 0.625],\n",
       "       [0.75 , 0.875, 1.   ]])"
      ]
     },
     "execution_count": 163,
     "metadata": {},
     "output_type": "execute_result"
    }
   ],
   "source": [
    "# ans-7\n",
    "\n",
    "a=np.linspace(0,1,9).reshape(3,3)\n",
    "a"
   ]
  },
  {
   "cell_type": "code",
   "execution_count": 169,
   "id": "788ceb23-01fd-428f-a898-f2c98345bc76",
   "metadata": {},
   "outputs": [
    {
     "data": {
      "text/plain": [
       "array([[0.76469429, 0.25816265, 0.69552842],\n",
       "       [0.81482848, 0.15097625, 0.95680766],\n",
       "       [0.04876062, 0.48426946, 0.28697038]])"
      ]
     },
     "execution_count": 169,
     "metadata": {},
     "output_type": "execute_result"
    }
   ],
   "source": [
    "# or import\n",
    "#  . rand() ==> This function is used to generate a random number between 0 to 1 . \n",
    "# syntax == rand(numberof values) \n",
    "a=np.random.rand(9).reshape(3,3)\n",
    "a"
   ]
  },
  {
   "cell_type": "code",
   "execution_count": 170,
   "id": "8627fe8c-6726-4597-8601-45a053a88ee3",
   "metadata": {},
   "outputs": [
    {
     "data": {
      "text/plain": [
       "array([5, 6, 7, 8])"
      ]
     },
     "execution_count": 170,
     "metadata": {},
     "output_type": "execute_result"
    }
   ],
   "source": [
    "# ans - 8\n",
    "a=np.array([1,2,3,4])\n",
    "b=np.array([5,6,7,8])\n",
    "a\n",
    "b"
   ]
  },
  {
   "cell_type": "code",
   "execution_count": 171,
   "id": "b6d40030-d0be-4ecb-99db-e5dddeca472e",
   "metadata": {},
   "outputs": [
    {
     "data": {
      "text/plain": [
       "array([1, 2, 3, 4])"
      ]
     },
     "execution_count": 171,
     "metadata": {},
     "output_type": "execute_result"
    }
   ],
   "source": [
    "a"
   ]
  },
  {
   "cell_type": "code",
   "execution_count": 174,
   "id": "5a3e8116-5013-44fb-a563-dc6a8f4b77e8",
   "metadata": {},
   "outputs": [
    {
     "data": {
      "text/plain": [
       "array([1, 2, 3, 4, 5, 6, 7, 8])"
      ]
     },
     "execution_count": 174,
     "metadata": {},
     "output_type": "execute_result"
    }
   ],
   "source": [
    "np.hstack((a,b))"
   ]
  },
  {
   "cell_type": "code",
   "execution_count": 175,
   "id": "9cf52f1b-1e04-407e-b9c2-6daa035e2f80",
   "metadata": {},
   "outputs": [
    {
     "data": {
      "text/plain": [
       "array([[1, 2, 3, 4],\n",
       "       [5, 6, 7, 8]])"
      ]
     },
     "execution_count": 175,
     "metadata": {},
     "output_type": "execute_result"
    }
   ],
   "source": [
    "np.vstack((a,b))\n"
   ]
  },
  {
   "cell_type": "code",
   "execution_count": 176,
   "id": "eff6f88e-a7c1-472a-9853-3667bf07283f",
   "metadata": {},
   "outputs": [
    {
     "name": "stdout",
     "output_type": "stream",
     "text": [
      "Array 1:\n",
      " [[1 2 3]\n",
      " [4 5 6]]\n",
      "Array 2:\n",
      " [[ 7  8  9]\n",
      " [10 11 12]]\n",
      "Horizontally concatenated array:\n",
      " [[ 1  2  3  7  8  9]\n",
      " [ 4  5  6 10 11 12]]\n",
      "Horizontally stacked array:\n",
      " [[ 1  2  3  7  8  9]\n",
      " [ 4  5  6 10 11 12]]\n",
      "Vertically concatenated array:\n",
      " [[ 1  2  3]\n",
      " [ 4  5  6]\n",
      " [ 7  8  9]\n",
      " [10 11 12]]\n",
      "Vertically stacked array:\n",
      " [[ 1  2  3]\n",
      " [ 4  5  6]\n",
      " [ 7  8  9]\n",
      " [10 11 12]]\n"
     ]
    }
   ],
   "source": [
    "import numpy as np\n",
    "\n",
    "# Creating two 2D arrays\n",
    "array1 = np.array([[1, 2, 3], [4, 5, 6]])\n",
    "array2 = np.array([[7, 8, 9], [10, 11, 12]])\n",
    "\n",
    "print(\"Array 1:\\n\", array1)\n",
    "print(\"Array 2:\\n\", array2)\n",
    "\n",
    "# Horizontal concatenation\n",
    "horizontal_concat = np.concatenate((array1, array2), axis=1)\n",
    "print(\"Horizontally concatenated array:\\n\", horizontal_concat)\n",
    "\n",
    "# Horizontal stacking\n",
    "horizontal_stack = np.hstack((array1, array2))\n",
    "print(\"Horizontally stacked array:\\n\", horizontal_stack)\n",
    "\n",
    "# Vertical concatenation\n",
    "vertical_concat = np.concatenate((array1, array2), axis=0)\n",
    "print(\"Vertically concatenated array:\\n\", vertical_concat)\n",
    "\n",
    "# Vertical stacking\n",
    "vertical_stack = np.vstack((array1, array2))\n",
    "print(\"Vertically stacked array:\\n\", vertical_stack)\n"
   ]
  },
  {
   "cell_type": "code",
   "execution_count": null,
   "id": "38696ff0-49d5-4dae-8c64-4b97aa9bd072",
   "metadata": {},
   "outputs": [],
   "source": []
  }
 ],
 "metadata": {
  "kernelspec": {
   "display_name": "Python 3 (ipykernel)",
   "language": "python",
   "name": "python3"
  },
  "language_info": {
   "codemirror_mode": {
    "name": "ipython",
    "version": 3
   },
   "file_extension": ".py",
   "mimetype": "text/x-python",
   "name": "python",
   "nbconvert_exporter": "python",
   "pygments_lexer": "ipython3",
   "version": "3.10.11"
  }
 },
 "nbformat": 4,
 "nbformat_minor": 5
}
